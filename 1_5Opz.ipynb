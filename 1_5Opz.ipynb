{
    "cells": [
        {
            "cell_type": "code",
            "execution_count": null,
            "metadata": {},
            "outputs": [],
            "source": [
                "split= 0.8\n",
                "s = '_S8020'\n",
                "v= 0\n",
                "epno = 10\n",
                "e = '_e10'\n",
                "wz = 30\n",
                "w = '_wz30'\n",
                "bz = 64\n",
                "b ='_b64_'\n",
                "shuffle_buffer_size = 1000\n",
                "lrno = 0.0008\n",
                "l = 'l0008'\n",
                "window_size = wz\n",
                "look_back = wz\n",
                "batch_size = bz\n",
                "#o = 'Adam'"
            ]
        },
        {
            "cell_type": "code",
            "execution_count": null,
            "metadata": {},
            "outputs": [],
            "source": [
                "df_rmse_SAL =pd.DataFrame()\n",
                "df_t_SAL =pd.DataFrame()\n",
                "df_rmse1_SAL = pd.DataFrame()\n",
                "df_t1_SAL = pd.DataFrame()\n",
                "\n",
                "df_rmse_PH =pd.DataFrame()\n",
                "df_t_PH =pd.DataFrame()\n",
                "df_rmse1_PH =pd.DataFrame()\n",
                "df_t1_PH =pd.DataFrame()\n",
                "\n",
                "df_rmse_DO =pd.DataFrame()\n",
                "df_t_DO =pd.DataFrame()\n",
                "df_rmse1_DO =pd.DataFrame()\n",
                "df_t1_DO =pd.DataFrame()\n",
                "\n",
                "df_rmse_TEMP =pd.DataFrame()\n",
                "df_t_TEMP =pd.DataFrame()\n",
                "df_rmse1_TEMP =pd.DataFrame()\n",
                "df_t1_TEMP =pd.DataFrame()"
            ]
        },
        {
            "cell_type": "code",
            "execution_count": null,
            "metadata": {},
            "outputs": [],
            "source": [
                "o = 'Adam'\n",
                "opt = tf.keras.optimizers.Adam(learning_rate=lrno)\n",
                "%run 2.io_Loop_4WQP.ipynb"
            ]
        },
        {
            "cell_type": "code",
            "execution_count": null,
            "metadata": {},
            "outputs": [],
            "source": [
                "# o ='SGD'\n",
                "# opt = tf.keras.optimizers.SGD(learning_rate=lrno)\n",
                "# #opt = tf.keras.optimizers.SGD(learning_rate=lrno, momentum=0.9, nesterov=False)#, name=\"SGD\")\n",
                "# #opt = tf.keras.optimizers.SGD(lr=1e-5, momentum=0.9)\n",
                "\n",
                "# %run 2.io_Loop_4WQP.ipynb"
            ]
        },
        {
            "cell_type": "code",
            "execution_count": null,
            "metadata": {},
            "outputs": [],
            "source": [
                "o ='Adadelta'\n",
                "opt = tf.keras.optimizers.Adadelta(learning_rate=lrno, rho=0.95, epsilon=1e-07)#, name=\"Adadelta\")\n",
                "%run 2.io_Loop_4WQP.ipynb"
            ]
        },
        {
            "cell_type": "code",
            "execution_count": null,
            "metadata": {},
            "outputs": [],
            "source": [
                "o ='Adagrad'\n",
                "opt = tf.keras.optimizers.Adagrad(learning_rate= lrno,initial_accumulator_value=0.1,epsilon=1e-07)#,name=\"Adagrad\")\n",
                "%run 2.io_Loop_4WQP.ipynb"
            ]
        },
        {
            "cell_type": "code",
            "execution_count": null,
            "metadata": {},
            "outputs": [],
            "source": [
                "o ='Adamax'\n",
                "opt = tf.keras.optimizers.Adamax(learning_rate= lrno, beta_1=0.9, beta_2=0.999, epsilon=1e-07)#, name=\"Adamax\")\n",
                "%run 2.io_Loop_4WQP.ipynb"
            ]
        },
        {
            "cell_type": "code",
            "execution_count": null,
            "metadata": {},
            "outputs": [],
            "source": [
                "o ='Nadam'\n",
                "opt = tf.keras.optimizers.Nadam( learning_rate= lrno, beta_1=0.9, beta_2=0.999, epsilon=1e-07)#, name=\"Nadam\")\n",
                "%run 2.io_Loop_4WQP.ipynb"
            ]
        },
        {
            "cell_type": "code",
            "execution_count": null,
            "metadata": {},
            "outputs": [],
            "source": [
                "o ='Ftrl'\n",
                "opt = tf.keras.optimizers.Ftrl(learning_rate= lrno,learning_rate_power=-0.5,initial_accumulator_value=0.1,l1_regularization_strength=0.0,l2_regularization_strength=0.0,name=\"Ftrl\",l2_shrinkage_regularization_strength=0.0, beta=0.0)\n",
                "%run 2.io_Loop_4WQP.ipynb"
            ]
        },
        {
            "cell_type": "code",
            "execution_count": null,
            "metadata": {},
            "outputs": [],
            "source": [
                "o ='RMSprop'\n",
                "opt = tf.keras.optimizers.RMSprop( learning_rate=0.001, rho=0.9, momentum=0.0, epsilon=1e-07, centered=False)#,   name='RMSprop')\n",
                "%run 2.io_Loop_4WQP.ipynb"
            ]
        },
        {
            "cell_type": "code",
            "execution_count": null,
            "metadata": {},
            "outputs": [],
            "source": [
                "df_rmse1_SAL.to_csv('5.Opz_vs_RMSE/1.SAL.csv')\n",
                "df_t1_SAL.to_csv('5.Opz_vs_RMSE/1.SAL_t.csv')\n",
                "\n",
                "df_rmse1_PH.to_csv('5.Opz_vs_RMSE/2.PH.csv')\n",
                "df_t1_PH.to_csv('5.Opz_vs_RMSE/2.PH_t.csv')\n",
                "\n",
                "df_rmse1_DO.to_csv('5.Opz_vs_RMSE/3.DO.csv')\n",
                "df_t1_DO.to_csv('5.Opz_vs_RMSE/3.DO_t.csv')\n",
                "\n",
                "df_rmse1_TEMP.to_csv('5.Opz_vs_RMSE/4.TEMP.csv')\n",
                "df_t1_TEMP.to_csv('5.Opz_vs_RMSE/4.TEMP_t.csv')"
            ]
        },
        {
            "cell_type": "code",
            "execution_count": null,
            "metadata": {},
            "outputs": [],
            "source": [
                "import datetime\n",
                "now = datetime.datetime.now()\n",
                "print (\"Current date and time : \")\n",
                "print (now.strftime(\"%Y-%m-%d %H:%M:%S\"))"
            ]
        }
    ],
    "metadata": {
        "extensions": {
            "azuredatastudio": {
                "version": 1,
                "views": []
            }
        },
        "kernelspec": {
            "display_name": "Python 3.10.1 64-bit",
            "language": "python",
            "name": "python3"
        },
        "language_info": {
            "codemirror_mode": {
                "name": "ipython",
                "version": 3
            },
            "file_extension": ".py",
            "mimetype": "text/x-python",
            "name": "python",
            "nbconvert_exporter": "python",
            "pygments_lexer": "ipython3",
            "version": "3.10.1"
        },
        "vscode": {
            "interpreter": {
                "hash": "f59d67ee7b3086f82b509dfb4abfbe34e380e96735d42956fd36b8619c3fbfc5"
            }
        }
    },
    "nbformat": 4,
    "nbformat_minor": 2
}
