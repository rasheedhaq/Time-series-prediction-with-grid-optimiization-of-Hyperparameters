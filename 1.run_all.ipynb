{
    "cells": [
        {
            "cell_type": "code",
            "execution_count": 3,
            "metadata": {},
            "outputs": [
                {
                    "name": "stdout",
                    "output_type": "stream",
                    "text": [
                        "Current date and time : \n",
                        "2022-06-27 20:59:33\n"
                    ]
                }
            ],
            "source": [
                "import warnings\n",
                "warnings.filterwarnings(\"ignore\")\n",
                "\n",
                "import datetime\n",
                "now = datetime.datetime.now()\n",
                "print (\"Current date and time : \")\n",
                "print (now.strftime(\"%Y-%m-%d %H:%M:%S\"))"
            ]
        },
        {
            "cell_type": "code",
            "execution_count": 4,
            "metadata": {},
            "outputs": [],
            "source": [
                "import pandas as pd\n",
                "import numpy as np\n",
                "import matplotlib.pyplot as plt\n",
                "import tensorflow as tf\n",
                "import time\n",
                "from scipy import stats\n",
                "\n",
                "from sklearn.metrics import mean_absolute_error\n",
                "from sklearn.metrics import mean_squared_error\n",
                "from sklearn.metrics import mean_absolute_percentage_error\n",
                "\n",
                "#from keras_sequential_ascii import keras2ascii\n",
                "from sklearn.preprocessing import MinMaxScaler\n",
                "from sklearn.metrics import mean_squared_error\n",
                "ST_code = time.time()\n",
                "# fix random seed for reproducibility\n",
                "np.random.seed(51)"
            ]
        },
        {
            "cell_type": "code",
            "execution_count": 5,
            "metadata": {},
            "outputs": [],
            "source": [
                "#read the data from CSV\n",
                "df = pd.read_csv(\"dataieee.csv\")\n",
                "d = '_IEEE'"
            ]
        },
        {
            "cell_type": "code",
            "execution_count": 6,
            "metadata": {},
            "outputs": [
                {
                    "name": "stdout",
                    "output_type": "stream",
                    "text": [
                        "SAL\n",
                        "PH\n",
                        "DO\n",
                        "TEMP\n",
                        "SAL\n",
                        "PH\n",
                        "DO\n",
                        "TEMP\n",
                        "SAL\n",
                        "PH\n",
                        "DO\n",
                        "TEMP\n",
                        "SAL\n",
                        "PH\n",
                        "DO\n",
                        "TEMP\n",
                        "SAL\n",
                        "PH\n",
                        "DO\n",
                        "TEMP\n",
                        "SAL\n",
                        "PH\n",
                        "DO\n",
                        "TEMP\n",
                        "Current date and time : \n",
                        "2022-06-27 23:08:38\n",
                        "7744.64001250267\n",
                        "Current date and time : \n",
                        "2022-06-27 23:08:38\n"
                    ]
                }
            ],
            "source": [
                "ST = time.time()\n",
                "%run 1_1Lr.ipynb\n",
                "ET = time.time()\n",
                "t2run = ET - ST\n",
                "print(t2run)\n",
                "print (\"Current date and time : \")\n",
                "print (now.strftime(\"%Y-%m-%d %H:%M:%S\"))"
            ]
        },
        {
            "cell_type": "code",
            "execution_count": 7,
            "metadata": {},
            "outputs": [
                {
                    "name": "stdout",
                    "output_type": "stream",
                    "text": [
                        "SAL\n",
                        "PH\n",
                        "DO\n",
                        "TEMP\n",
                        "SAL\n",
                        "PH\n",
                        "DO\n",
                        "TEMP\n",
                        "SAL\n",
                        "PH\n",
                        "DO\n",
                        "TEMP\n",
                        "SAL\n",
                        "PH\n",
                        "DO\n",
                        "TEMP\n",
                        "SAL\n",
                        "PH\n",
                        "DO\n",
                        "TEMP\n",
                        "Current date and time : \n",
                        "2022-06-28 05:05:24\n",
                        "21405.495470523834\n",
                        "Current date and time : \n",
                        "2022-06-28 05:05:24\n"
                    ]
                }
            ],
            "source": [
                "ST = time.time()\n",
                "%run 1_2Epochs.ipynb\n",
                "ET = time.time()\n",
                "t2run = ET - ST\n",
                "print(t2run)\n",
                "print (\"Current date and time : \")\n",
                "print (now.strftime(\"%Y-%m-%d %H:%M:%S\"))"
            ]
        },
        {
            "cell_type": "code",
            "execution_count": 8,
            "metadata": {},
            "outputs": [
                {
                    "name": "stdout",
                    "output_type": "stream",
                    "text": [
                        "SAL\n",
                        "PH\n",
                        "DO\n",
                        "TEMP\n",
                        "SAL\n",
                        "PH\n",
                        "DO\n",
                        "TEMP\n",
                        "SAL\n",
                        "PH\n",
                        "DO\n",
                        "TEMP\n",
                        "SAL\n",
                        "PH\n",
                        "DO\n",
                        "TEMP\n",
                        "SAL\n",
                        "PH\n",
                        "DO\n",
                        "TEMP\n",
                        "SAL\n",
                        "PH\n",
                        "DO\n",
                        "TEMP\n",
                        "Current date and time : \n",
                        "2022-06-28 08:33:24\n",
                        "12479.734600305557\n",
                        "Current date and time : \n",
                        "2022-06-28 08:33:24\n"
                    ]
                }
            ],
            "source": [
                "ST = time.time()\n",
                "%run 1_3Wz.ipynb\n",
                "ET = time.time()\n",
                "t2run = ET - ST\n",
                "print(t2run)\n",
                "print (\"Current date and time : \")\n",
                "print (now.strftime(\"%Y-%m-%d %H:%M:%S\"))"
            ]
        },
        {
            "cell_type": "code",
            "execution_count": 9,
            "metadata": {},
            "outputs": [
                {
                    "name": "stdout",
                    "output_type": "stream",
                    "text": [
                        "SAL\n",
                        "PH\n",
                        "DO\n",
                        "TEMP\n",
                        "SAL\n",
                        "PH\n",
                        "DO\n",
                        "TEMP\n",
                        "SAL\n",
                        "PH\n",
                        "DO\n",
                        "TEMP\n",
                        "SAL\n",
                        "PH\n",
                        "DO\n",
                        "TEMP\n",
                        "SAL\n",
                        "PH\n",
                        "DO\n",
                        "TEMP\n",
                        "SAL\n",
                        "PH\n",
                        "DO\n",
                        "TEMP\n",
                        "Current date and time : \n",
                        "2022-06-28 12:31:00\n",
                        "14255.778871297836\n",
                        "Current date and time : \n",
                        "2022-06-28 12:31:00\n"
                    ]
                }
            ],
            "source": [
                "ST = time.time()\n",
                "%run 1_4Bz.ipynb\n",
                "ET = time.time()\n",
                "t2run = ET - ST\n",
                "print(t2run)\n",
                "print (\"Current date and time : \")\n",
                "print (now.strftime(\"%Y-%m-%d %H:%M:%S\"))"
            ]
        },
        {
            "cell_type": "code",
            "execution_count": 10,
            "metadata": {},
            "outputs": [
                {
                    "name": "stdout",
                    "output_type": "stream",
                    "text": [
                        "SAL\n",
                        "PH\n",
                        "DO\n",
                        "TEMP\n",
                        "SAL\n",
                        "PH\n",
                        "DO\n",
                        "TEMP\n",
                        "SAL\n",
                        "PH\n",
                        "DO\n",
                        "TEMP\n",
                        "SAL\n",
                        "PH\n",
                        "DO\n",
                        "TEMP\n",
                        "SAL\n",
                        "PH\n",
                        "DO\n",
                        "TEMP\n",
                        "SAL\n",
                        "PH\n",
                        "DO\n",
                        "TEMP\n",
                        "SAL\n",
                        "PH\n",
                        "DO\n",
                        "TEMP\n",
                        "Current date and time : \n",
                        "2022-06-28 16:38:46\n",
                        "14865.985537052155\n",
                        "Current date and time : \n",
                        "2022-06-28 16:38:46\n"
                    ]
                }
            ],
            "source": [
                "ST = time.time()\n",
                "%run 1_5Opz.ipynb\n",
                "ET = time.time()\n",
                "t2run = ET - ST\n",
                "print(t2run)\n",
                "print (\"Current date and time : \")\n",
                "print (now.strftime(\"%Y-%m-%d %H:%M:%S\"))"
            ]
        },
        {
            "cell_type": "code",
            "execution_count": 11,
            "metadata": {},
            "outputs": [
                {
                    "name": "stdout",
                    "output_type": "stream",
                    "text": [
                        "Current date and time : \n",
                        "2022-06-28 16:38:46\n"
                    ]
                }
            ],
            "source": [
                "import datetime\n",
                "now = datetime.datetime.now()\n",
                "print (\"Current date and time : \")\n",
                "print (now.strftime(\"%Y-%m-%d %H:%M:%S\"))"
            ]
        }
    ],
    "metadata": {
        "extensions": {
            "azuredatastudio": {
                "version": 1,
                "views": []
            }
        },
        "kernelspec": {
            "display_name": "Python 3.10.1 64-bit",
            "language": "python",
            "name": "python3"
        },
        "language_info": {
            "codemirror_mode": {
                "name": "ipython",
                "version": 3
            },
            "file_extension": ".py",
            "mimetype": "text/x-python",
            "name": "python",
            "nbconvert_exporter": "python",
            "pygments_lexer": "ipython3",
            "version": "3.10.1"
        },
        "vscode": {
            "interpreter": {
                "hash": "f59d67ee7b3086f82b509dfb4abfbe34e380e96735d42956fd36b8619c3fbfc5"
            }
        }
    },
    "nbformat": 4,
    "nbformat_minor": 2
}
