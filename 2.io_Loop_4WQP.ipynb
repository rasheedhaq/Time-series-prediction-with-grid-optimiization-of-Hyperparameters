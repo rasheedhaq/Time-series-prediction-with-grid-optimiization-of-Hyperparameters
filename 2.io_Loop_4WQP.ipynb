{
    "cells": [
        {
            "cell_type": "code",
            "execution_count": null,
            "metadata": {},
            "outputs": [],
            "source": [
                "WQP = 'SAL'\n",
                "WQPn = '1.SAL'\n",
                "WQPu = 'Salinity (ppt)'\n",
                "\n",
                "%run 3.io_Models_Order.ipynb\n",
                "df_results_SAL = pd.DataFrame()\n",
                "df_results_SAL = df_results\n",
                "\n",
                "df_results.to_csv('n/'+ WQPn +'_Results_' + l + s + e + w + b + o + d + '.csv')\n",
                "\n",
                "df_rmse_SAL = df_results_SAL.rmse_test\n",
                "res = df_rmse_SAL.T\n",
                "df_rmse1_SAL = df_rmse1_SAL.append(res)\n",
                "\n",
                "df_t_SAL = df_results_SAL.Train_time_s\n",
                "res = df_t_SAL.T\n",
                "df_t1_SAL = df_t1_SAL.append(res)"
            ]
        },
        {
            "cell_type": "code",
            "execution_count": null,
            "metadata": {},
            "outputs": [],
            "source": [
                "WQP = 'PH'\n",
                "WQPn = '2.PH'\n",
                "WQPu = 'pH'\n",
                "\n",
                "%run 3.io_Models_Order.ipynb\n",
                "df_results_PH = pd.DataFrame()\n",
                "df_results_PH = df_results\n",
                "\n",
                "df_results.to_csv('n/'+ WQPn +'_Results_' + l + s + e + w + b + o + d + '.csv')\n",
                "\n",
                "#df_rmse_PH = df_results_PH[df_results_PH.columns [7]]\n",
                "df_rmse_PH = df_results_PH.rmse_test\n",
                "res = df_rmse_PH.T\n",
                "df_rmse1_PH = df_rmse1_PH.append(res)\n",
                "\n",
                "#df_t_PH = df_results_PH[df_results_PH.columns [9]] \n",
                "df_t_PH = df_results_PH.Train_time_s\n",
                "res = df_t_PH.T\n",
                "df_t1_PH = df_t1_PH.append(res)"
            ]
        },
        {
            "cell_type": "code",
            "execution_count": null,
            "metadata": {},
            "outputs": [],
            "source": [
                "WQP = 'DO'\n",
                "WQPn = '3.DO'\n",
                "WQPu = 'Dissolved oxygen (ml/L)'\n",
                "\n",
                "%run 3.io_Models_Order.ipynb\n",
                "df_results_DO = pd.DataFrame()\n",
                "df_results_DO = df_results\n",
                "\n",
                "df_results.to_csv('n/'+ WQPn +'_Results_' + l + s + e + w + b + o + d + '.csv')\n",
                "\n",
                "df_rmse_DO = df_results_DO.rmse_test\n",
                "res = df_rmse_DO.T\n",
                "df_rmse1_DO = df_rmse1_DO.append(res)\n",
                "\n",
                "df_t_DO = df_results_DO.Train_time_s\n",
                "res = df_t_DO.T\n",
                "df_t1_DO = df_t1_DO.append(res)"
            ]
        },
        {
            "cell_type": "code",
            "execution_count": null,
            "metadata": {},
            "outputs": [],
            "source": [
                "WQP = 'TEMP'\n",
                "WQPn = '4.TEMP'\n",
                "WQPu = 'Temperature($^\\circ$C)'\n",
                "\n",
                "%run 3.io_Models_Order.ipynb\n",
                "df_results_TEMP = pd.DataFrame()\n",
                "df_results_TEMP = df_results\n",
                "\n",
                "df_results.to_csv('n/'+ WQPn +'_Results_' + l + s + e + w + b + o + d + '.csv')\n",
                "\n",
                "df_rmse_TEMP = df_results_TEMP.rmse_test\n",
                "res = df_rmse_TEMP.T\n",
                "df_rmse1_TEMP = df_rmse1_TEMP.append(res)\n",
                "\n",
                "df_t_TEMP = df_results_TEMP.Train_time_s\n",
                "res = df_t_TEMP\n",
                "df_t1_TEMP = df_t1_TEMP.append(res)"
            ]
        },
        {
            "cell_type": "code",
            "execution_count": null,
            "metadata": {},
            "outputs": [],
            "source": [
                "frames1 = [df_results_SAL, df_results_PH, df_results_DO, df_results_TEMP]\n",
                "frames2 = [df_results_SAL.T, df_results_PH.T, df_results_DO.T, df_results_TEMP.T]\n",
                "\n",
                "result1 = pd.concat(frames1)\n",
                "result2 = pd.concat(frames2)\n",
                "result1.to_csv('n/1.ALL_Results_' + l + s + e + w + b + o + d + '.csv')\n",
                "result2.to_csv('n/2.ALL_Results_' + l + s+ e + w + b + o + d + '.csv')"
            ]
        }
    ],
    "metadata": {
        "extensions": {
            "azuredatastudio": {
                "version": 1,
                "views": []
            }
        },
        "interpreter": {
            "hash": "fac333ba2ccabcc612a775ca28160836da69bb320834087bdc0347762e0117d1"
        },
        "kernelspec": {
            "display_name": "Python 3.9.6 64-bit",
            "name": "python3"
        },
        "language_info": {
            "codemirror_mode": {
                "name": "ipython",
                "version": 3
            },
            "file_extension": ".py",
            "mimetype": "text/x-python",
            "name": "python",
            "nbconvert_exporter": "python",
            "pygments_lexer": "ipython3",
            "version": "3.9.6"
        }
    },
    "nbformat": 4,
    "nbformat_minor": 2
}
